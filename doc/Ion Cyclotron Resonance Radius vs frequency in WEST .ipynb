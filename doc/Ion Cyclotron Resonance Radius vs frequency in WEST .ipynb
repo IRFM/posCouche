{
 "cells": [
  {
   "cell_type": "code",
   "execution_count": 1,
   "metadata": {
    "collapsed": true
   },
   "outputs": [],
   "source": [
    "# (Hack) add the parent directory to the path in order to be able to import the posCouche module \n",
    "import os\n",
    "import sys\n",
    "module_path = os.path.abspath(os.path.join('..'))\n",
    "if module_path not in sys.path:\n",
    "    sys.path.append(module_path)\n",
    "\n",
    "from posCouche.ic_utils import *"
   ]
  },
  {
   "cell_type": "code",
   "execution_count": 40,
   "metadata": {
    "collapsed": true
   },
   "outputs": [],
   "source": [
    "from matplotlib.pyplot import *\n",
    "matplotlib.rcParams.update({'font.size': 16})\n",
    "%matplotlib inline"
   ]
  },
  {
   "cell_type": "code",
   "execution_count": 3,
   "metadata": {
    "collapsed": true
   },
   "outputs": [],
   "source": [
    "# Atomic mass\n",
    "A_H = 1\n",
    "A_D = 2\n",
    "A_He3= 3"
   ]
  },
  {
   "cell_type": "code",
   "execution_count": 4,
   "metadata": {
    "collapsed": true
   },
   "outputs": [],
   "source": [
    "## Tore Supra parameters    \n",
    "#R0 = 2.4 # m\n",
    "#a = 0.72 # m\n",
    "#source_frequencies = [42, 48, 57, 63, 76]\n",
    "\n",
    "# WEST parameters    \n",
    "#R0 = 2.5 # m\n",
    "a = 0.5 # m\n",
    "B0 = 3.7 # T \n",
    "source_frequencies = [48, 53, 55.5, 57, 63]"
   ]
  },
  {
   "cell_type": "code",
   "execution_count": 5,
   "metadata": {
    "collapsed": true
   },
   "outputs": [],
   "source": [
    "# Calculates the cyclotron frequencies vs f\n",
    "f_RF = np.linspace(40e6, 65e6, 30)"
   ]
  },
  {
   "cell_type": "code",
   "execution_count": 6,
   "metadata": {
    "collapsed": true
   },
   "outputs": [],
   "source": [
    "species = ('H', '3He')\n"
   ]
  },
  {
   "cell_type": "code",
   "execution_count": 7,
   "metadata": {
    "collapsed": false
   },
   "outputs": [],
   "source": [
    "f = {}\n",
    "for spec in species:\n",
    "    f[spec] = IC_resonance_radius(f=f_RF, species=spec)\n"
   ]
  },
  {
   "cell_type": "code",
   "execution_count": 44,
   "metadata": {
    "collapsed": false
   },
   "outputs": [
    {
     "data": {
      "image/png": "[encoded data removed]",
      "text/plain": [
       "<matplotlib.figure.Figure at 0xf6fd748>"
      ]
     },
     "metadata": {},
     "output_type": "display_data"
    }
   ],
   "source": [
    "Itor = 1250\n",
    "\n",
    "R_cis_2H, R_cis_1H, R_cis_He3, R_cis_2He3 = [], [], [], []\n",
    "for f in f_RF:\n",
    "    R_cis_1H.append(IC_resonance_radius(f=f/1e6, Itor=Itor, species='H', n=1))\n",
    "    R_cis_2H.append(IC_resonance_radius(f=f/1e6, Itor=Itor, species='H', n=2))\n",
    "    R_cis_He3.append(IC_resonance_radius(f=f/1e6, Itor=Itor, species='3He', n=1))  \n",
    "    R_cis_2He3.append(IC_resonance_radius(f=f/1e6, Itor=Itor, species='3He', n=2))  \n",
    "R_cis_1H = np.array(R_cis_1H)\n",
    "R_cis_2H = np.array(R_cis_2H)\n",
    "R_cis_He3 = np.array(R_cis_He3)\n",
    "R_cis_2He3 = np.array(R_cis_2He3)\n",
    "\n",
    "# Plotting\n",
    "fig, ax=subplots(1,1)\n",
    "# 1H\n",
    "#fill_between(f_RF, R_cis_1H[:,0], R_cis_1H[:,2], alpha=0.2, color='b')\n",
    "ax.plot(f_RF/1e6, R_cis_1H, lw=2, color='b')\n",
    "text(45,2.8, '$H$', color='b', fontsize=30)\n",
    "\n",
    "# 2H\n",
    "#fill_between(f_RF, R_cis_2H[:,0], R_cis_2H[:,2], alpha=0.2, color='g')\n",
    "ax.plot(f_RF/1e6, R_cis_2H, lw=2, color='g')\n",
    "#text(70,2, '$2H$', color='g', fontsize=30)\n",
    "\n",
    "# 1He3\n",
    "#fill_between(f_RF, R_cis_2H[:,0], R_cis_2H[:,2], alpha=0.2, color='g')\n",
    "ax.plot(f_RF/1e6, R_cis_He3, lw=2, color='r')\n",
    "text(45,2.2, '$^3He$', color='r', fontsize=30)\n",
    "\n",
    "# 2He3\n",
    "#fill_between(f_RF, R_cis_2He3[:,0], R_cis_2He3[:,2], alpha=0.2, color='r')\n",
    "ax.plot(f_RF/1e6, R_cis_2He3, lw=2, color='c')\n",
    "text(60,3.2, '$2^3He$', color='c', fontsize=30)\n",
    "\n",
    "ax.set_xlabel('$f_{RF}$ [MHz]', fontsize=18)\n",
    "ax.set_ylabel('R [m]', fontsize=18)\n",
    "ax.grid(True)\n",
    "\n",
    "ax.set_ylim(1.6, 3.4)\n",
    "# Machine limits\n",
    "axhspan(1.6, 2, color='gray', alpha=0.25)\n",
    "ax.hlines(2.0, 40, 65, color='k', linestyles='--', lw=2)\n",
    "ax.hlines(2.5, 40, 65, color='gray', linestyles='--', lw=2)\n",
    "ax.hlines(3.0, 40, 65, color='k', linestyles='--', lw=2)\n",
    "axhspan(3, 3.4, color='gray', alpha=0.25)\n",
    "\n",
    "ax.set_xlim(40, 65)\n",
    "title('$R_0$=2.5 m, $B_0$={0:.2f} T'.format(Itor/1250*3.7))\n",
    "#R_1H = []\n",
    "#R_ripple = []\n",
    "#for f in f_RF:\n",
    "#    res_cond, R_ripple1, R_wo_ripple = coucherip(np.array([R0]), np.array([0]), B0, f/1e6, 1, +1, A_H)\n",
    "#    R_ripple.append(R_ripple1)#\n",
    "\n",
    "# Display pre-tuned frequencies\n",
    "for f_s in source_frequencies:\n",
    "    ax.vlines(f_s, 1.6, 3.4, linestyle=':', color='navy')\n"
   ]
  },
  {
   "cell_type": "code",
   "execution_count": null,
   "metadata": {
    "collapsed": true
   },
   "outputs": [],
   "source": []
  }
 ],
 "metadata": {
  "anaconda-cloud": {},
  "kernelspec": {
   "display_name": "Python [conda root]",
   "language": "python",
   "name": "conda-root-py"
  },
  "language_info": {
   "codemirror_mode": {
    "name": "ipython",
    "version": 3
   },
   "file_extension": ".py",
   "mimetype": "text/x-python",
   "name": "python",
   "nbconvert_exporter": "python",
   "pygments_lexer": "ipython3",
   "version": "3.5.2"
  }
 },
 "nbformat": 4,
 "nbformat_minor": 1
}
