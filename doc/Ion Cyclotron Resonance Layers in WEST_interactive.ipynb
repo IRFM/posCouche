{
 "cells": [
  {
   "cell_type": "code",
   "execution_count": 1,
   "metadata": {
    "collapsed": true
   },
   "outputs": [],
   "source": [
    "%matplotlib notebook\n",
    "import matplotlib.pyplot as plt\n",
    "import numpy as np\n",
    "\n",
    "# (Hack) add the parent directory to the path in order to be able to import the posCouche module \n",
    "import os\n",
    "import sys\n",
    "module_path = os.path.abspath(os.path.join('..'))\n",
    "if module_path not in sys.path:\n",
    "    sys.path.append(module_path)\n",
    "    \n",
    "from posCouche.formeTS import vacuum_vessel\n",
    "from posCouche.ic_utils import IC_resonance_radius, IC_resonance_radius_ripple\n",
    "\n",
    "from ipywidgets import interact, interactive\n",
    "import ipywidgets"
   ]
  },
  {
   "cell_type": "code",
   "execution_count": 2,
   "metadata": {
    "collapsed": true
   },
   "outputs": [],
   "source": [
    "# IPython notebook widgets\n",
    "Itor_widget = ipywidgets.IntSlider(value=1250, min=600, max=1350, step=1, description='Itor [A]')\n",
    "freq_widget = ipywidgets.FloatSlider(value=55.0, min=40, max=70, step=0.1, description='Frequency [MHz]')\n",
    "harmonic_widget = ipywidgets.IntSlider(value=1, min=1, max=3, description='Harmonic')\n",
    "species_widget = ipywidgets.Dropdown(options=['H','D','T','3He','4He'], value='H', description='Species')"
   ]
  },
  {
   "cell_type": "code",
   "execution_count": 3,
   "metadata": {
    "collapsed": false
   },
   "outputs": [
    {
     "data": {
      "image/png": "[encoded data removed]",
      "text/plain": [
       "<matplotlib.figure.Figure at 0x7f8ae6cfcf60>"
      ]
     },
     "metadata": {},
     "output_type": "display_data"
    }
   ],
   "source": [
    "# Initialize the figure and draw some plots to get the Line objects\n",
    "R_vv, Z_vv = vacuum_vessel(shot=50001)\n",
    "fig, ax = plt.subplots()\n",
    "ax.plot(R_vv, Z_vv, 'k', lw=2)\n",
    "ax.axis('equal')\n",
    "\n",
    "z = np.linspace(-0.8, +0.8, 500)\n",
    "R, Z = np.meshgrid(np.linspace(1.5, 3.5, 500), z)\n",
    "\n",
    "Rc_ripple, Rc_ripple_p, Rc_ripple_m = IC_resonance_radius_ripple(R,Z)\n",
    "\n",
    "line_Rc = ax.axvline(Rc_ripple, color='r', lw=2, ls='--')\n",
    "line_Rc_p, = ax.plot(Rc_ripple_p, z, 'r')\n",
    "line_Rc_m, = ax.plot(Rc_ripple_m, z, 'r')"
   ]
  },
  {
   "cell_type": "code",
   "execution_count": 4,
   "metadata": {
    "collapsed": false
   },
   "outputs": [
    {
     "name": "stdout",
     "output_type": "stream",
     "text": [
      "R=2.7447331118256812 m\n"
     ]
    }
   ],
   "source": [
    "# continuous_update = False : restricts executions to mouse release events\n",
    "@interact(Itor=Itor_widget, f=freq_widget, n=harmonic_widget, species=species_widget, continuous_update=False)\n",
    "def set_Rc(Itor, f, n, species):\n",
    "    Rc, Rc_ripple_p, Rc_ripple_m = IC_resonance_radius_ripple(R ,Z, Itor=Itor, freq=f, species=species, n=n)\n",
    "    line_Rc.set_data([Rc, Rc], [0, 1])\n",
    "    line_Rc_p.set_data(Rc_ripple_p, z)\n",
    "    line_Rc_m.set_data(Rc_ripple_m, z)\n",
    "    print(f'R={Rc} m')"
   ]
  },
  {
   "cell_type": "code",
   "execution_count": null,
   "metadata": {
    "collapsed": true
   },
   "outputs": [],
   "source": []
  }
 ],
 "metadata": {
  "anaconda-cloud": {},
  "kernelspec": {
   "display_name": "Python 3",
   "language": "python",
   "name": "python3"
  },
  "language_info": {
   "codemirror_mode": {
    "name": "ipython",
    "version": 3
   },
   "file_extension": ".py",
   "mimetype": "text/x-python",
   "name": "python",
   "nbconvert_exporter": "python",
   "pygments_lexer": "ipython3",
   "version": "3.6.3"
  },
  "widgets": {
   "state": {
    "ef921e79167d4c54a9dbf6dd85cefff4": {
     "views": [
      {
       "cell_index": 3
      }
     ]
    }
   },
   "version": "1.2.0"
  }
 },
 "nbformat": 4,
 "nbformat_minor": 1
}
