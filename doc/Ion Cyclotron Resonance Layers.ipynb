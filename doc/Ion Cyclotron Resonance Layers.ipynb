{
 "cells": [
  {
   "cell_type": "markdown",
   "metadata": {},
   "source": [
    "# Ion Cyclotron Resonance Layer Calculation\n"
   ]
  },
  {
   "cell_type": "markdown",
   "metadata": {},
   "source": [
    "## Introduction\n",
    "The cyclotron frequency (or gyrofrequency) is the frequency of a charged particle moving perpendicular to the direction of a uniform magnetic field $B$ (constant magnitude and direction). The cyclotron angular frequency $\\omega_c$ is:\n",
    "$$ \\omega_c = \\frac{Z |e| B}{m} $$\n",
    "where:\n",
    " - $Z$ is the ion [atomic number](https://en.wikipedia.org/wiki/Atomic_number) (i.e. the number of protons) \n",
    " - $e$ is the [electric charge on an electron](https://en.wikipedia.org/wiki/Elementary_charge)\n",
    " - $B$ is the magnitude of the local magnetic field\n",
    " - $m$ is the ion mass, which is equals to $m=Z m_p + (A-Z) m_n$ where $m_p$ is the proton mass, $m_n$ the neutron mass and $A$ the [mass number](https://en.wikipedia.org/wiki/Mass_number) (i.e. the number of [nucleons](https://en.wikipedia.org/wiki/Nucleon), neutron or proton) \n"
   ]
  },
  {
   "cell_type": "markdown",
   "metadata": {},
   "source": [
    "In a uniform plasma, a resonant wave-particle interaction occurs with a plasma wave of frequency $\\omega$ when the following condition is satisfied:\n",
    "$$\\omega - n \\omega_c - k_\\parallel v_\\parallel=0$$ \n",
    "with $n\\in\\mathbb{N}$. This resonnant interaction leads to wave damping (or growth). For the case $n>0$ where the field rotates in same direction than the particle, efficient damping can be achieved if the polarization is determined by the majority ion species and at the fundamental cyclotron frequency of a minority species. One can target the fundamental cyclotron interaction ($\\omega=\\omega_c$) or an harmonic cyclotron interaction ($\\omega=n \\omega_c$) where $n$ is a non-null positive integer ($n\\in \\mathbb{N}^*_+$)"
   ]
  },
  {
   "cell_type": "markdown",
   "metadata": {},
   "source": [
    "## Application to the WEST tokamak\n",
    "In a real tokamak geometry, the magnetic field magnitude decreased with the radius, typically as $B(R) \\propto \\frac{1}{R}$. \n",
    "\n",
    "For the WEST tokamak, the magnetic field magnitude $B$ is mainly the toroidal field magnitude, which depends of the current magnitude flowing in the toroidal coils $I_{\\mathrm{tor} }$. Neglecting the ripple, the Ampere's law along a toroidal circle with radius $R$ gives:\n",
    "$$\n",
    "B(R) \n",
    "= \\frac{\\mu_0 n_B n_T I_{\\mathrm{tor}}}{2\\pi R}\n",
    "= 0.0073 \\frac{I_{\\mathrm{tor}}} {R}\n",
    "$$\n",
    "with $n_B=18$ the number of coils, $n_T=2028$ the number of turns in a coil. $B_0(R_0=2.37)=3.85$T.\n",
    "\n",
    "The cyclotron angular frequency is then:\n",
    "$$\n",
    "\\omega_c = 0.0073 \\frac{Z |e| I_{\\mathrm{tor}} }{ m R} \n",
    "$$\n",
    "\n"
   ]
  },
  {
   "cell_type": "markdown",
   "metadata": {},
   "source": [
    "Inversely, for a given source frequency $\\omega=n\\omega_c$, one can deduces the location of the resonance layer radius :\n",
    "$$\n",
    "R_c = 0.0073 \\frac{n Z |e| I_{\\mathrm{tor}} }{ m \\omega} \n",
    "$$"
   ]
  },
  {
   "cell_type": "markdown",
   "metadata": {},
   "source": [
    "Or, for a given target resonance layer radius, the toroidal coil current $I_{tor}$ to setup at a given RF frequency $\\omega$ : \n",
    "$$\n",
    "I_{\\mathrm{tor}} = \\frac{m }{0.0073 n Z |e| }R_c \\omega \n",
    "$$"
   ]
  },
  {
   "cell_type": "markdown",
   "metadata": {},
   "source": [
    "## Examples"
   ]
  },
  {
   "cell_type": "code",
   "execution_count": 1,
   "metadata": {},
   "outputs": [],
   "source": [
    "from scipy.constants import u, pi, e, m_p, m_n\n",
    "import numpy as np\n",
    "\n",
    "def R_c(I_tor, f, Z, A, n):\n",
    "    \"\"\"Returns the cyclotron resonance radius in the WEST tokamak [m]\"\"\"\n",
    "    m = Z*m_p + (A-Z)*m_n\n",
    "    R_c = 0.0073 * n*(Z*e)*I_tor / (m*2*pi*f)\n",
    "    return R_c"
   ]
  },
  {
   "cell_type": "markdown",
   "metadata": {},
   "source": [
    "For $I_{\\mathrm{tor}}=1250$ A and $f=\\frac{\\omega}{2\\pi}=55$MHz, we finds:"
   ]
  },
  {
   "cell_type": "markdown",
   "metadata": {},
   "source": [
    " - for a hydrogen minority (Z=1, A=1) at fundamental resonance (n=1)"
   ]
  },
  {
   "cell_type": "code",
   "execution_count": 2,
   "metadata": {},
   "outputs": [
    {
     "data": {
      "text/plain": [
       "2.529315044030706"
      ]
     },
     "execution_count": 2,
     "metadata": {},
     "output_type": "execute_result"
    }
   ],
   "source": [
    "R_c(I_tor=1250, f=55e6, Z=1, A=1, n=1)"
   ]
  },
  {
   "cell_type": "markdown",
   "metadata": {},
   "source": [
    " - for a hydrogen minority (Z=1, A=1) at second harmonic resonance (n=2)"
   ]
  },
  {
   "cell_type": "code",
   "execution_count": 3,
   "metadata": {},
   "outputs": [
    {
     "data": {
      "text/plain": [
       "5.058630088061412"
      ]
     },
     "execution_count": 3,
     "metadata": {},
     "output_type": "execute_result"
    }
   ],
   "source": [
    "R_c(I_tor=1250, f=55e6, Z=1, A=1, n=2)"
   ]
  },
  {
   "cell_type": "markdown",
   "metadata": {},
   "source": [
    " - for a deuterium minority (Z=1, A=2) at fundamental resonance (n=1) and second harmonic (n=2)"
   ]
  },
  {
   "cell_type": "code",
   "execution_count": 4,
   "metadata": {},
   "outputs": [
    {
     "data": {
      "text/plain": [
       "1.263786508651366"
      ]
     },
     "execution_count": 4,
     "metadata": {},
     "output_type": "execute_result"
    }
   ],
   "source": [
    "R_c(I_tor=1250, f=55e6, Z=1, A=2, n=1)"
   ]
  },
  {
   "cell_type": "code",
   "execution_count": 5,
   "metadata": {},
   "outputs": [
    {
     "data": {
      "text/plain": [
       "2.527573017302732"
      ]
     },
     "execution_count": 5,
     "metadata": {},
     "output_type": "execute_result"
    }
   ],
   "source": [
    "R_c(I_tor=1250, f=55e6, Z=1, A=2, n=2)"
   ]
  }
 ],
 "metadata": {
  "anaconda-cloud": {},
  "kernelspec": {
   "display_name": "Python 3",
   "language": "python",
   "name": "python3"
  },
  "language_info": {
   "codemirror_mode": {
    "name": "ipython",
    "version": 3
   },
   "file_extension": ".py",
   "mimetype": "text/x-python",
   "name": "python",
   "nbconvert_exporter": "python",
   "pygments_lexer": "ipython3",
   "version": "3.6.4"
  }
 },
 "nbformat": 4,
 "nbformat_minor": 1
}
